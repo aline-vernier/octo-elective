{
 "cells": [
  {
   "cell_type": "code",
   "execution_count": 16,
   "metadata": {
    "collapsed": true
   },
   "outputs": [
    {
     "name": "stdout",
     "output_type": "stream",
     "text": [
      "Plasma Frequency: 171.717217913 THz\nPlasma Wavelength: 1747.05835353 nm\nMax Field: 315.8523577 GV/m\n"
     ]
    }
   ],
   "source": [
    "import math as m\n",
    "\n",
    "# Everything in SI units <3 We love SI.\n",
    "\n",
    "# Physical constants\n",
    "c = 3e8\n",
    "eps_0= 8.85e-12\n",
    "m_e=9.81e-31\n",
    "ee = 1.6e-19\n",
    "\n",
    "# Electron density\n",
    "n = 1e25\n",
    "\n",
    "# Plasma frequency\n",
    "def plasma_freq(_n):\n",
    "    return m.sqrt(_n*ee*ee/(m_e*eps_0))\n",
    "\n",
    "# Max E-field from Gauss' theorem\n",
    "def Emax(_w, _n):\n",
    "    return _n*c*ee/(_w*eps_0)\n",
    "\n",
    "w = plasma_freq(n)\n",
    "E_max = Emax(w, n)\n",
    "\n",
    "print \"Plasma Frequency: \" + str(w*1e-12) +\" THz\"\n",
    "print \"Plasma Wavelength: \" + str(c/w*1e9) +\" nm\"\n",
    "print \"Max Field: \" + str(E_max*1e-9) +\" GV/m\"\n"
   ]
  },
  {
   "cell_type": "code",
   "execution_count": 19,
   "metadata": {},
   "outputs": [
    {
     "name": "stdout",
     "output_type": "stream",
     "text": [
      "Ionization I intensity: 1.4506352447e+15 W/cm2\nIonization II intensity: 8.77069784852e+15 W/cm2\n"
     ]
    }
   ],
   "source": [
    "V1 = 24.54 # in eV\n",
    "V2 = 54.42 # in eV\n",
    "def Isb(_Vi):\n",
    "    return 4*1e9*m.pow(_Vi, 4)\n",
    "\n",
    "print \"Ionization I intensity: \" + str(Isb(V1)) +\" W/cm2\"\n",
    "print \"Ionization II intensity: \" + str(Isb(V2)/4) +\" W/cm2\""
   ]
  },
  {
   "cell_type": "code",
   "execution_count": 34,
   "metadata": {},
   "outputs": [
    {
     "name": "stdout",
     "output_type": "stream",
     "text": [
      "Laser energy = 11.8378 mJ\n"
     ]
    }
   ],
   "source": [
    "w0 = 100e-4 # In cm\n",
    "tau = 26e-15 # In fs\n",
    "Ii = 1.45e15 # In W/cm2\n",
    "\n",
    "def Energy(_w0, _tau, _Ii):\n",
    "    return _Ii*_tau*_w0*_w0*3.14\n",
    "\n",
    "print \"Laser energy = \" + str(Energy(w0, tau, Ii)*1e3) +\" mJ\""
   ]
  },
  {
   "cell_type": "code",
   "execution_count": null,
   "metadata": {},
   "outputs": [],
   "source": [
    ""
   ]
  }
 ],
 "metadata": {
  "kernelspec": {
   "display_name": "Python 2",
   "language": "python",
   "name": "python2"
  },
  "language_info": {
   "codemirror_mode": {
    "name": "ipython",
    "version": 2.0
   },
   "file_extension": ".py",
   "mimetype": "text/x-python",
   "name": "python",
   "nbconvert_exporter": "python",
   "pygments_lexer": "ipython2",
   "version": "2.7.6"
  }
 },
 "nbformat": 4,
 "nbformat_minor": 0
}